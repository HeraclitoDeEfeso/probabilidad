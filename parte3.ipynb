{
 "metadata": {
  "language_info": {
   "codemirror_mode": {
    "name": "ipython",
    "version": 3
   },
   "file_extension": ".py",
   "mimetype": "text/x-python",
   "name": "python",
   "nbconvert_exporter": "python",
   "pygments_lexer": "ipython3",
   "version": "3.7.4-final"
  },
  "orig_nbformat": 2,
  "kernelspec": {
   "name": "python3",
   "display_name": "Python 3.7.4 64-bit",
   "metadata": {
    "interpreter": {
     "hash": "0600588c3b5f4418cbe7b5ebc6825b479f3bc010269d8b60d75058cdd010adfe"
    }
   }
  }
 },
 "nbformat": 4,
 "nbformat_minor": 2,
 "cells": [
  {
   "source": [
    "# Parte 3: Convergencia\n",
    "Al igual que en la parte 2, es necesario importar las funciones auxiliares que hemos implementado para simular las muestras de variables aleatorias:"
   ],
   "cell_type": "markdown",
   "metadata": {}
  },
  {
   "cell_type": "code",
   "execution_count": 1,
   "metadata": {},
   "outputs": [],
   "source": [
    "import sys; sys.path.insert(0, '..')\n",
    "from simulador import *"
   ]
  },
  {
   "source": [
    "Luego obtenemos cuatro muestras con distribucion binomial de tamaño 100 con probabilidad p igual a 0.4, pero cada una con 10, 20, 50 y 100 experimentos Bernoulli, que se denotaran como `bin10`, `bin20`, `bin50` y `bin100` respectivamente:"
   ],
   "cell_type": "markdown",
   "metadata": {}
  },
  {
   "cell_type": "code",
   "execution_count": 2,
   "metadata": {},
   "outputs": [],
   "source": [
    "bin10 = binomial(100, 10, 0.4)\n",
    "bin20 = binomial(100, 20, 0.4)\n",
    "bin50 = binomial(100, 50, 0.4)\n",
    "bin100 = binomial(100, 100, 0.4)"
   ]
  },
  {
   "source": [
    "Ahora, procedemos a graficar los histogramas correspondientes a cada muestra de datos obtenida.\n",
    "\n",
    "Para una muestra binomial con 10 experimentos Bernoulli, probabilidad 0.4 y con 100 repeticiones, el histograma es el siguiente:"
   ],
   "cell_type": "markdown",
   "metadata": {}
  },
  {
   "cell_type": "code",
   "execution_count": 3,
   "metadata": {},
   "outputs": [
    {
     "output_type": "display_data",
     "data": {
      "text/plain": "<Figure size 432x288 with 1 Axes>",
      "image/png": "[encoded data removed]"
     },
     "metadata": {
      "needs_background": "light"
     }
    }
   ],
   "source": [
    "%matplotlib inline\n",
    "from graficas import histograma\n",
    "histograma(bin10, [1])"
   ]
  },
  {
   "source": [
    "Para una muestra binomial con 20 experimentos Bernoulli, probabilidad 0.4 y con 100 repeticiones, el histograma es el siguiente:"
   ],
   "cell_type": "markdown",
   "metadata": {}
  },
  {
   "cell_type": "code",
   "execution_count": 4,
   "metadata": {},
   "outputs": [
    {
     "output_type": "display_data",
     "data": {
      "text/plain": "<Figure size 432x288 with 1 Axes>",
      "image/png": "[encoded data removed]"
     },
     "metadata": {
      "needs_background": "light"
     }
    }
   ],
   "source": [
    "histograma(bin20, [1])"
   ]
  },
  {
   "source": [
    "Para una muestra binomial con 50 experimentos Bernoulli, probabilidad 0.4 y con 100 repeticiones, el histograma es el siguiente:"
   ],
   "cell_type": "markdown",
   "metadata": {}
  },
  {
   "cell_type": "code",
   "execution_count": 5,
   "metadata": {},
   "outputs": [
    {
     "output_type": "display_data",
     "data": {
      "text/plain": "<Figure size 432x288 with 1 Axes>",
      "image/png": "[encoded data removed]"
     },
     "metadata": {
      "needs_background": "light"
     }
    }
   ],
   "source": [
    "histograma(bin50, [1])"
   ]
  },
  {
   "source": [
    "Para una muestra binomial con 100 experimentos Bernoulli, probabilidad 0.4 y con 100 repeticiones, el histograma es el siguiente:"
   ],
   "cell_type": "markdown",
   "metadata": {}
  },
  {
   "cell_type": "code",
   "execution_count": 6,
   "metadata": {},
   "outputs": [
    {
     "output_type": "display_data",
     "data": {
      "text/plain": "<Figure size 432x288 with 1 Axes>",
      "image/png": "[encoded data removed]"
     },
     "metadata": {
      "needs_background": "light"
     }
    }
   ],
   "source": [
    "histograma(bin100, [1])"
   ]
  },
  {
   "source": [
    "Lo que se puede observar es que a medida de que la cantidad de experimentos de la muestra crece, es decir n crece, la muestra empieza a tener la forma de una campana de Gauss y que se aproxima a una muestra de distribucion normal. Si se observa desde el primer histograma cuyo n es 10, hasta el ultimo cuyo n es 100, la forma de campana se hace mas notoria.\n",
    "\n",
    "Ahora procedemos a graficar una muestra de tamaño 100 con probabilidad de éxito 0.4 para 200 experimentos Bernoulli. Calcularemos también su media y desviacion estandar muestrales."
   ],
   "cell_type": "markdown",
   "metadata": {}
  },
  {
   "cell_type": "code",
   "execution_count": 7,
   "metadata": {},
   "outputs": [
    {
     "output_type": "stream",
     "name": "stdout",
     "text": [
      "Media muestral: 79.19 | Desviacion estandar muestral: 6.82\n"
     ]
    },
    {
     "output_type": "display_data",
     "data": {
      "text/plain": "<Figure size 432x288 with 1 Axes>",
      "image/png": "[encoded data removed]"
     },
     "metadata": {
      "needs_background": "light"
     }
    }
   ],
   "source": [
    "from analisis import media_muestral as mm\n",
    "from analisis import desviacion_estandar_muestral as dem\n",
    "bin200 = binomial(100, 200, 0.4)\n",
    "bin200_mm = mm(bin200)\n",
    "bin200_dem = dem(bin200)\n",
    "print(\"Media muestral: %.2f | Desviacion estandar muestral: %.2f\" % (bin200_mm, bin200_dem))\n",
    "histograma(bin200, [1])"
   ]
  },
  {
   "source": [
    "La forma de la campana caracteristica de una muestra con distribucion normal es mas marcada. Las 100 repeticiones del experimento hacen que haya resultados que se puedan promediar con el fin de obtener mayor precision en el mismo. Es asi que lo que se puede observar es que el promedio de todas estas repeticiones con probabilidad p (en este caso se tomo un p de valor 0.4) tienden o convergen al valor de la media (cuyo valor teorico es de 80 para esta muestra en particular).\n",
    "\n",
    "Luego, con la media y desvío estandard muestrales estandarizaremos cada uno de los datos de la muestra y graficamos el histograma de la muestra estandarizada obtenida:"
   ],
   "cell_type": "markdown",
   "metadata": {}
  },
  {
   "cell_type": "code",
   "execution_count": 8,
   "metadata": {},
   "outputs": [
    {
     "output_type": "display_data",
     "data": {
      "text/plain": "<Figure size 432x288 with 1 Axes>",
      "image/png": "[encoded data removed]"
     },
     "metadata": {
      "needs_background": "light"
     }
    }
   ],
   "source": [
    "bin200_normalizada = [ (x - bin200_mm)/bin200_dem for x in bin200]\n",
    "histograma(bin200_normalizada, [0.3])"
   ]
  },
  {
   "source": [
    "Por ultimo, computamos las medias muestrales para cada una de las muestras anteriores y las escribimos en la siguiente tabla junto con su error relativo con respecto a la media de la distribución binomial de base:"
   ],
   "cell_type": "markdown",
   "metadata": {}
  },
  {
   "cell_type": "code",
   "execution_count": 9,
   "metadata": {},
   "outputs": [
    {
     "output_type": "display_data",
     "data": {
      "text/plain": "<IPython.core.display.Markdown object>",
      "text/markdown": "\n| Tamaño |  Media Muestral | Media Binomial | Err. Rel |\n|--------|-----------------|----------------|----------|\n| 10     |  4.43           | 4             | 0.107     |\n| 20     |  7.90           | 8             | 0.012     |\n| 50     |  20.31           | 20             | 0.015     |\n| 100     |  40.14           | 40             | 0.004     |\n| 200     |  79.19           | 80             | 0.010     |  "
     },
     "metadata": {}
    }
   ],
   "source": [
    "from IPython.display import display, Markdown\n",
    "display(Markdown('''\n",
    "| Tamaño |  Media Muestral | Media Binomial | Err. Rel |\n",
    "|--------|-----------------|----------------|----------|\n",
    "| %d     |  %.2f           | %d             | %.3f     |\n",
    "| %d     |  %.2f           | %d             | %.3f     |\n",
    "| %d     |  %.2f           | %d             | %.3f     |\n",
    "| %d     |  %.2f           | %d             | %.3f     |\n",
    "| %d     |  %.2f           | %d             | %.3f     |  ''' % ( 10, mm(bin10),   4, abs(mm(bin10)/4 - 1),\n",
    "        20, mm(bin20),   8, abs(mm(bin20)/8 - 1),\n",
    "        50, mm(bin50),  20, abs(mm(bin50)/20 - 1),\n",
    "       100, mm(bin100), 40, abs(mm(bin100)/40 - 1),\n",
    "       200, mm(bin200), 80, abs(mm(bin200)/80 - 1))))"
   ]
  },
  {
   "source": [
    "Repitiendo la experiencia muchas veces podemos observar que, si bien no de manera exacta dada la naturaleza probabilística de nuestro experimento, al aumentar la cantidad de experimentos Bernoulli de cada muestra y mantener el parámetros de probabilidad de éxito, el error relativo tiende a disminuir."
   ],
   "cell_type": "markdown",
   "metadata": {}
  }
 ]
}